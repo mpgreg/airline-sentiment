{
 "cells": [
  {
   "cell_type": "code",
   "execution_count": 4,
   "metadata": {},
   "outputs": [
    {
     "name": "stderr",
     "output_type": "stream",
     "text": [
      "Couldn't call 'get_role' to get Role ARN from role name AWSGlueServiceSageMakerNotebookRole-airline-sentiment to get Role path.\n"
     ]
    }
   ],
   "source": [
    "import boto3\n",
    "from sagemaker import get_execution_role\n",
    "\n",
    "role = get_execution_role()"
   ]
  },
  {
   "cell_type": "code",
   "execution_count": null,
   "metadata": {},
   "outputs": [],
   "source": [
    "\n",
    "\n",
    "client = boto3.client('glue')\n",
    "\n",
    "response = client.create_crawler(\n",
    "    Name='default',\n",
    "    Role='AWSGlueServiceRoleDefault',\n",
    "    DatabaseName='default',\n",
    "    Description='project data',\n",
    "    Targets={\n",
    "        'S3Targets': [\n",
    "            {\n",
    "                'Path': 's3://project1-lz',\n",
    "                'Exclusions': [\n",
    "                ]\n",
    "            },\n",
    "        ]\n",
    "    },\n",
    "    SchemaChangePolicy={\n",
    "        'UpdateBehavior': 'UPDATE_IN_DATABASE',\n",
    "        'DeleteBehavior': 'DELETE_FROM_DATABASE'\n",
    "    }\n",
    "    #,Configuration='{ \"Version\": 1.0, \"CrawlerOutput\": { \"Partitions\": { \"AddOrUpdateBehavior\": \"InheritFromTable\" } } }'\n",
    ")\n",
    "\n",
    "response = client.start_crawler(\n",
    "    Name='default'\n",
    ")\n",
    "\n",
    "#response = client.update_table(\n",
    "#    DatabaseName='sales-cvs',\n",
    "#    TableInput={\n",
    "#        'Name': 'csv',\n",
    "#        'Description': 'Table Sales',\n",
    "#        'StorageDescriptor': {\n",
    "#            'SerdeInfo': {\n",
    "#                'Name': 'OpenCSVSerde',\n",
    "#                'SerializationLibrary': 'org.apache.hadoop.hive.serde2.OpenCSVSerde',\n",
    "#                'Parameters': {\n",
    "#                    'separatorChar': ','\n",
    "#                }\n",
    "#            }\n",
    "#        }\n",
    "#    }\n",
    "#)\n",
    "\n",
    "\n",
    "#aws glue start-crawler --name default --region eu-west-1"
   ]
  },
  {
   "cell_type": "code",
   "execution_count": null,
   "metadata": {},
   "outputs": [],
   "source": []
  }
 ],
 "metadata": {
  "kernelspec": {
   "display_name": "conda_python3",
   "language": "python",
   "name": "conda_python3"
  },
  "language_info": {
   "codemirror_mode": {
    "name": "ipython",
    "version": 3
   },
   "file_extension": ".py",
   "mimetype": "text/x-python",
   "name": "python",
   "nbconvert_exporter": "python",
   "pygments_lexer": "ipython3",
   "version": "3.6.10"
  }
 },
 "nbformat": 4,
 "nbformat_minor": 4
}
